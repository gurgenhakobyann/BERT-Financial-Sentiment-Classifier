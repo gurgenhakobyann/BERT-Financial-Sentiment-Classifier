{
 "cells": [
  {
   "cell_type": "code",
   "execution_count": null,
   "metadata": {
    "id": "VSOwXVjakfh6"
   },
   "outputs": [],
   "source": [
    "import os\n",
    "os.environ[\"WANDB_DISABLED\"] = \"true\"\n"
   ]
  },
  {
   "cell_type": "code",
   "execution_count": null,
   "metadata": {
    "colab": {
     "base_uri": "https://localhost:8080/"
    },
    "id": "DwHWOSgu4rzf",
    "outputId": "a62c678e-feff-4a1a-8bad-44d1facda685"
   },
   "outputs": [
    {
     "name": "stdout",
     "output_type": "stream",
     "text": [
      "Requirement already satisfied: transformers in /usr/local/lib/python3.11/dist-packages (4.53.2)\n",
      "Requirement already satisfied: datasets in /usr/local/lib/python3.11/dist-packages (4.0.0)\n",
      "Requirement already satisfied: evaluate in /usr/local/lib/python3.11/dist-packages (0.4.5)\n",
      "Requirement already satisfied: scikit-learn in /usr/local/lib/python3.11/dist-packages (1.6.1)\n",
      "Requirement already satisfied: filelock in /usr/local/lib/python3.11/dist-packages (from transformers) (3.18.0)\n",
      "Requirement already satisfied: huggingface-hub<1.0,>=0.30.0 in /usr/local/lib/python3.11/dist-packages (from transformers) (0.33.4)\n",
      "Requirement already satisfied: numpy>=1.17 in /usr/local/lib/python3.11/dist-packages (from transformers) (2.0.2)\n",
      "Requirement already satisfied: packaging>=20.0 in /usr/local/lib/python3.11/dist-packages (from transformers) (25.0)\n",
      "Requirement already satisfied: pyyaml>=5.1 in /usr/local/lib/python3.11/dist-packages (from transformers) (6.0.2)\n",
      "Requirement already satisfied: regex!=2019.12.17 in /usr/local/lib/python3.11/dist-packages (from transformers) (2024.11.6)\n",
      "Requirement already satisfied: requests in /usr/local/lib/python3.11/dist-packages (from transformers) (2.32.3)\n",
      "Requirement already satisfied: tokenizers<0.22,>=0.21 in /usr/local/lib/python3.11/dist-packages (from transformers) (0.21.2)\n",
      "Requirement already satisfied: safetensors>=0.4.3 in /usr/local/lib/python3.11/dist-packages (from transformers) (0.5.3)\n",
      "Requirement already satisfied: tqdm>=4.27 in /usr/local/lib/python3.11/dist-packages (from transformers) (4.67.1)\n",
      "Requirement already satisfied: pyarrow>=15.0.0 in /usr/local/lib/python3.11/dist-packages (from datasets) (18.1.0)\n",
      "Requirement already satisfied: dill<0.3.9,>=0.3.0 in /usr/local/lib/python3.11/dist-packages (from datasets) (0.3.7)\n",
      "Requirement already satisfied: pandas in /usr/local/lib/python3.11/dist-packages (from datasets) (2.2.2)\n",
      "Requirement already satisfied: xxhash in /usr/local/lib/python3.11/dist-packages (from datasets) (3.5.0)\n",
      "Requirement already satisfied: multiprocess<0.70.17 in /usr/local/lib/python3.11/dist-packages (from datasets) (0.70.15)\n",
      "Requirement already satisfied: fsspec<=2025.3.0,>=2023.1.0 in /usr/local/lib/python3.11/dist-packages (from fsspec[http]<=2025.3.0,>=2023.1.0->datasets) (2025.3.0)\n",
      "Requirement already satisfied: scipy>=1.6.0 in /usr/local/lib/python3.11/dist-packages (from scikit-learn) (1.16.0)\n",
      "Requirement already satisfied: joblib>=1.2.0 in /usr/local/lib/python3.11/dist-packages (from scikit-learn) (1.5.1)\n",
      "Requirement already satisfied: threadpoolctl>=3.1.0 in /usr/local/lib/python3.11/dist-packages (from scikit-learn) (3.6.0)\n",
      "Requirement already satisfied: aiohttp!=4.0.0a0,!=4.0.0a1 in /usr/local/lib/python3.11/dist-packages (from fsspec[http]<=2025.3.0,>=2023.1.0->datasets) (3.11.15)\n",
      "Requirement already satisfied: typing-extensions>=3.7.4.3 in /usr/local/lib/python3.11/dist-packages (from huggingface-hub<1.0,>=0.30.0->transformers) (4.14.1)\n",
      "Requirement already satisfied: hf-xet<2.0.0,>=1.1.2 in /usr/local/lib/python3.11/dist-packages (from huggingface-hub<1.0,>=0.30.0->transformers) (1.1.5)\n",
      "Requirement already satisfied: charset-normalizer<4,>=2 in /usr/local/lib/python3.11/dist-packages (from requests->transformers) (3.4.2)\n",
      "Requirement already satisfied: idna<4,>=2.5 in /usr/local/lib/python3.11/dist-packages (from requests->transformers) (3.10)\n",
      "Requirement already satisfied: urllib3<3,>=1.21.1 in /usr/local/lib/python3.11/dist-packages (from requests->transformers) (2.5.0)\n",
      "Requirement already satisfied: certifi>=2017.4.17 in /usr/local/lib/python3.11/dist-packages (from requests->transformers) (2025.7.14)\n",
      "Requirement already satisfied: python-dateutil>=2.8.2 in /usr/local/lib/python3.11/dist-packages (from pandas->datasets) (2.9.0.post0)\n",
      "Requirement already satisfied: pytz>=2020.1 in /usr/local/lib/python3.11/dist-packages (from pandas->datasets) (2025.2)\n",
      "Requirement already satisfied: tzdata>=2022.7 in /usr/local/lib/python3.11/dist-packages (from pandas->datasets) (2025.2)\n",
      "Requirement already satisfied: aiohappyeyeballs>=2.3.0 in /usr/local/lib/python3.11/dist-packages (from aiohttp!=4.0.0a0,!=4.0.0a1->fsspec[http]<=2025.3.0,>=2023.1.0->datasets) (2.6.1)\n",
      "Requirement already satisfied: aiosignal>=1.1.2 in /usr/local/lib/python3.11/dist-packages (from aiohttp!=4.0.0a0,!=4.0.0a1->fsspec[http]<=2025.3.0,>=2023.1.0->datasets) (1.4.0)\n",
      "Requirement already satisfied: attrs>=17.3.0 in /usr/local/lib/python3.11/dist-packages (from aiohttp!=4.0.0a0,!=4.0.0a1->fsspec[http]<=2025.3.0,>=2023.1.0->datasets) (25.3.0)\n",
      "Requirement already satisfied: frozenlist>=1.1.1 in /usr/local/lib/python3.11/dist-packages (from aiohttp!=4.0.0a0,!=4.0.0a1->fsspec[http]<=2025.3.0,>=2023.1.0->datasets) (1.7.0)\n",
      "Requirement already satisfied: multidict<7.0,>=4.5 in /usr/local/lib/python3.11/dist-packages (from aiohttp!=4.0.0a0,!=4.0.0a1->fsspec[http]<=2025.3.0,>=2023.1.0->datasets) (6.6.3)\n",
      "Requirement already satisfied: propcache>=0.2.0 in /usr/local/lib/python3.11/dist-packages (from aiohttp!=4.0.0a0,!=4.0.0a1->fsspec[http]<=2025.3.0,>=2023.1.0->datasets) (0.3.2)\n",
      "Requirement already satisfied: yarl<2.0,>=1.17.0 in /usr/local/lib/python3.11/dist-packages (from aiohttp!=4.0.0a0,!=4.0.0a1->fsspec[http]<=2025.3.0,>=2023.1.0->datasets) (1.20.1)\n",
      "Requirement already satisfied: six>=1.5 in /usr/local/lib/python3.11/dist-packages (from python-dateutil>=2.8.2->pandas->datasets) (1.17.0)\n"
     ]
    }
   ],
   "source": [
    "pip install transformers datasets evaluate scikit-learn"
   ]
  },
  {
   "cell_type": "code",
   "execution_count": null,
   "metadata": {
    "colab": {
     "base_uri": "https://localhost:8080/"
    },
    "id": "4HQd-rp2GcWt",
    "outputId": "02de3f5c-e4f9-430a-8e36-56772cffff8b"
   },
   "outputs": [
    {
     "name": "stdout",
     "output_type": "stream",
     "text": [
      "Requirement already satisfied: datasets in /usr/local/lib/python3.11/dist-packages (4.0.0)\n",
      "Requirement already satisfied: huggingface_hub in /usr/local/lib/python3.11/dist-packages (0.33.4)\n",
      "Requirement already satisfied: fsspec in /usr/local/lib/python3.11/dist-packages (2025.3.0)\n",
      "Collecting fsspec\n",
      "  Downloading fsspec-2025.7.0-py3-none-any.whl.metadata (12 kB)\n",
      "Requirement already satisfied: filelock in /usr/local/lib/python3.11/dist-packages (from datasets) (3.18.0)\n",
      "Requirement already satisfied: numpy>=1.17 in /usr/local/lib/python3.11/dist-packages (from datasets) (2.0.2)\n",
      "Requirement already satisfied: pyarrow>=15.0.0 in /usr/local/lib/python3.11/dist-packages (from datasets) (18.1.0)\n",
      "Requirement already satisfied: dill<0.3.9,>=0.3.0 in /usr/local/lib/python3.11/dist-packages (from datasets) (0.3.7)\n",
      "Requirement already satisfied: pandas in /usr/local/lib/python3.11/dist-packages (from datasets) (2.2.2)\n",
      "Requirement already satisfied: requests>=2.32.2 in /usr/local/lib/python3.11/dist-packages (from datasets) (2.32.3)\n",
      "Requirement already satisfied: tqdm>=4.66.3 in /usr/local/lib/python3.11/dist-packages (from datasets) (4.67.1)\n",
      "Requirement already satisfied: xxhash in /usr/local/lib/python3.11/dist-packages (from datasets) (3.5.0)\n",
      "Requirement already satisfied: multiprocess<0.70.17 in /usr/local/lib/python3.11/dist-packages (from datasets) (0.70.15)\n",
      "Requirement already satisfied: packaging in /usr/local/lib/python3.11/dist-packages (from datasets) (25.0)\n",
      "Requirement already satisfied: pyyaml>=5.1 in /usr/local/lib/python3.11/dist-packages (from datasets) (6.0.2)\n",
      "Requirement already satisfied: typing-extensions>=3.7.4.3 in /usr/local/lib/python3.11/dist-packages (from huggingface_hub) (4.14.1)\n",
      "Requirement already satisfied: hf-xet<2.0.0,>=1.1.2 in /usr/local/lib/python3.11/dist-packages (from huggingface_hub) (1.1.5)\n",
      "Requirement already satisfied: aiohttp!=4.0.0a0,!=4.0.0a1 in /usr/local/lib/python3.11/dist-packages (from fsspec[http]<=2025.3.0,>=2023.1.0->datasets) (3.11.15)\n",
      "Requirement already satisfied: charset-normalizer<4,>=2 in /usr/local/lib/python3.11/dist-packages (from requests>=2.32.2->datasets) (3.4.2)\n",
      "Requirement already satisfied: idna<4,>=2.5 in /usr/local/lib/python3.11/dist-packages (from requests>=2.32.2->datasets) (3.10)\n",
      "Requirement already satisfied: urllib3<3,>=1.21.1 in /usr/local/lib/python3.11/dist-packages (from requests>=2.32.2->datasets) (2.5.0)\n",
      "Requirement already satisfied: certifi>=2017.4.17 in /usr/local/lib/python3.11/dist-packages (from requests>=2.32.2->datasets) (2025.7.14)\n",
      "Requirement already satisfied: python-dateutil>=2.8.2 in /usr/local/lib/python3.11/dist-packages (from pandas->datasets) (2.9.0.post0)\n",
      "Requirement already satisfied: pytz>=2020.1 in /usr/local/lib/python3.11/dist-packages (from pandas->datasets) (2025.2)\n",
      "Requirement already satisfied: tzdata>=2022.7 in /usr/local/lib/python3.11/dist-packages (from pandas->datasets) (2025.2)\n",
      "Requirement already satisfied: aiohappyeyeballs>=2.3.0 in /usr/local/lib/python3.11/dist-packages (from aiohttp!=4.0.0a0,!=4.0.0a1->fsspec[http]<=2025.3.0,>=2023.1.0->datasets) (2.6.1)\n",
      "Requirement already satisfied: aiosignal>=1.1.2 in /usr/local/lib/python3.11/dist-packages (from aiohttp!=4.0.0a0,!=4.0.0a1->fsspec[http]<=2025.3.0,>=2023.1.0->datasets) (1.4.0)\n",
      "Requirement already satisfied: attrs>=17.3.0 in /usr/local/lib/python3.11/dist-packages (from aiohttp!=4.0.0a0,!=4.0.0a1->fsspec[http]<=2025.3.0,>=2023.1.0->datasets) (25.3.0)\n",
      "Requirement already satisfied: frozenlist>=1.1.1 in /usr/local/lib/python3.11/dist-packages (from aiohttp!=4.0.0a0,!=4.0.0a1->fsspec[http]<=2025.3.0,>=2023.1.0->datasets) (1.7.0)\n",
      "Requirement already satisfied: multidict<7.0,>=4.5 in /usr/local/lib/python3.11/dist-packages (from aiohttp!=4.0.0a0,!=4.0.0a1->fsspec[http]<=2025.3.0,>=2023.1.0->datasets) (6.6.3)\n",
      "Requirement already satisfied: propcache>=0.2.0 in /usr/local/lib/python3.11/dist-packages (from aiohttp!=4.0.0a0,!=4.0.0a1->fsspec[http]<=2025.3.0,>=2023.1.0->datasets) (0.3.2)\n",
      "Requirement already satisfied: yarl<2.0,>=1.17.0 in /usr/local/lib/python3.11/dist-packages (from aiohttp!=4.0.0a0,!=4.0.0a1->fsspec[http]<=2025.3.0,>=2023.1.0->datasets) (1.20.1)\n",
      "Requirement already satisfied: six>=1.5 in /usr/local/lib/python3.11/dist-packages (from python-dateutil>=2.8.2->pandas->datasets) (1.17.0)\n"
     ]
    }
   ],
   "source": [
    "pip install -U datasets huggingface_hub fsspec\n"
   ]
  },
  {
   "cell_type": "code",
   "execution_count": null,
   "metadata": {
    "id": "sDHx6Ay40ZeD"
   },
   "outputs": [],
   "source": [
    "from datasets import load_dataset\n",
    "from transformers import BertTokenizerFast, BertForSequenceClassification, TrainingArguments, Trainer\n",
    "from transformers import DataCollatorWithPadding\n",
    "import evaluate\n",
    "import numpy as np"
   ]
  },
  {
   "cell_type": "code",
   "execution_count": null,
   "metadata": {
    "colab": {
     "base_uri": "https://localhost:8080/",
     "height": 301,
     "referenced_widgets": [
      "05127f96c1684488868680c09a960828",
      "4514680d18554e858f5bbaa2f67f3346",
      "71fa87a3c71d4c4ca80ff93503e4e72b",
      "4d21fd535c28433aa03e2cd8cb3450b8",
      "332bd3079ce84980bfecc80aa0a9ff9d",
      "a8f16819088e40eea61e94b1944faf57",
      "65658529deea4ef19d0fa1ae5cf0ba3f",
      "e831edd771c54e4a8dca04998f14276f",
      "0640ed05cd6841c8ac45807f71debd0f",
      "491e3dd2c953470bbf9c7c3afa7b579d",
      "be4a30572096458f9157420df388b9fd",
      "307bf65c84124ed0bbf27348ee050b65",
      "8782fbdb253e4fe393acd29ddb1e4e6d",
      "b2704a5777454426b681db0071a033c0",
      "d45e9ae0fead40d3a872a8bb3d5ecb60",
      "4cf5a7b5ef8341979cf25b0b85306f64",
      "4f9de6c0a38d4967ac41e82fd153a864",
      "d2ba6d85b1ab45d598b50f90b4310f37",
      "dc62dae7e64a489b97e316f88a9d9bbc",
      "3f941ab4c5804fb4850e196329e22ce2",
      "e9b4deff45f04cafac4632bcf5004b31",
      "3638653e1045479ebecb89873561aaba",
      "cedb36a5cb624e1d8d23f69fd83a869f",
      "2de62d6f631e44f5af3084d9c9a12194",
      "72a68c037f364329b57137a7a1a352bf",
      "f39ae60dd60a4cd7a3311e9a1c9de205",
      "accbf4bb6cbc44f99df02095356d44ea",
      "7b97dbe15b16426c8a0d040da694a032",
      "22951973d2504c869c53d202ae1cd916",
      "49778ca746984d19a83148d08c8ba527",
      "c13910d27f9f46609ccc6fbf143ad441",
      "912ad9858ad849f895072ce11eebe955",
      "0141f15c3f444047a293aaf2387c7d0d",
      "467930ff1bb64dac9ded6b542df4f708",
      "a326f7d7e03a4c9da64821113bf4e5aa",
      "826e72e632824baeaadb0b31e9dfb7d7",
      "a27905a13748420e9fdd70e1b63363bf",
      "7974c733bd9b4c819fc08b1da360cedc",
      "89ae14d54a494b61ba0b18030ac6dd8a",
      "2bdbf44b6ca54724b90059d5539ae22f",
      "e0c35efe7f984aeba452f4e5de653e2f",
      "53e3513c6f274b238a5b72df6fb11a75",
      "797bf652d75e4bfe80ec9152cd675eef",
      "f17a201ca609447398ab5dff6dca2e55",
      "8fc833aadeee44b3bf94093b0de65813",
      "6e97660c2dab4fb1a5e8cde4840d1f48",
      "fe69a869cc254262aca77ec178034ff0",
      "5db596b1299640928c3e7507a2bf6bc3",
      "cc85426c469c47c2907b92121833f6fc",
      "b5ca4cf37790409a944d73a29a75050a",
      "58b62e07544642fea1ba26bb7bdb1c61",
      "d03a715d11ed41cea48fdada254994b0",
      "579ea65d9d34418c943469802472afe7",
      "811426b7918f48f685fe3d42dfc75f2d",
      "2a7213711a2e4dc99af48b7fdb353547"
     ]
    },
    "id": "rW1izQ1o3fth",
    "outputId": "881c6376-f410-437a-b590-31a295d29dac"
   },
   "outputs": [
    {
     "name": "stderr",
     "output_type": "stream",
     "text": [
      "/usr/local/lib/python3.11/dist-packages/huggingface_hub/utils/_auth.py:94: UserWarning: \n",
      "The secret `HF_TOKEN` does not exist in your Colab secrets.\n",
      "To authenticate with the Hugging Face Hub, create a token in your settings tab (https://huggingface.co/settings/tokens), set it as secret in your Google Colab and restart your session.\n",
      "You will be able to reuse this secret in all of your notebooks.\n",
      "Please note that authentication is recommended but still optional to access public models or datasets.\n",
      "  warnings.warn(\n"
     ]
    },
    {
     "data": {
      "application/vnd.jupyter.widget-view+json": {
       "model_id": "05127f96c1684488868680c09a960828",
       "version_major": 2,
       "version_minor": 0
      },
      "text/plain": [
       "README.md: 0.00B [00:00, ?B/s]"
      ]
     },
     "metadata": {},
     "output_type": "display_data"
    },
    {
     "data": {
      "application/vnd.jupyter.widget-view+json": {
       "model_id": "307bf65c84124ed0bbf27348ee050b65",
       "version_major": 2,
       "version_minor": 0
      },
      "text/plain": [
       "sent_train.csv: 0.00B [00:00, ?B/s]"
      ]
     },
     "metadata": {},
     "output_type": "display_data"
    },
    {
     "data": {
      "application/vnd.jupyter.widget-view+json": {
       "model_id": "cedb36a5cb624e1d8d23f69fd83a869f",
       "version_major": 2,
       "version_minor": 0
      },
      "text/plain": [
       "sent_valid.csv: 0.00B [00:00, ?B/s]"
      ]
     },
     "metadata": {},
     "output_type": "display_data"
    },
    {
     "data": {
      "application/vnd.jupyter.widget-view+json": {
       "model_id": "467930ff1bb64dac9ded6b542df4f708",
       "version_major": 2,
       "version_minor": 0
      },
      "text/plain": [
       "Generating train split:   0%|          | 0/9543 [00:00<?, ? examples/s]"
      ]
     },
     "metadata": {},
     "output_type": "display_data"
    },
    {
     "data": {
      "application/vnd.jupyter.widget-view+json": {
       "model_id": "8fc833aadeee44b3bf94093b0de65813",
       "version_major": 2,
       "version_minor": 0
      },
      "text/plain": [
       "Generating validation split:   0%|          | 0/2388 [00:00<?, ? examples/s]"
      ]
     },
     "metadata": {},
     "output_type": "display_data"
    }
   ],
   "source": [
    "dataset = load_dataset(\"zeroshot/twitter-financial-news-sentiment\")"
   ]
  },
  {
   "cell_type": "code",
   "execution_count": null,
   "metadata": {
    "id": "hvkV2xXO9swm"
   },
   "outputs": [],
   "source": [
    "label2id = {\"Bearish\": 0, \"Bullish\": 1, \"Neutral\": 2}\n",
    "id2label = {v: k for k, v in label2id.items()}"
   ]
  },
  {
   "cell_type": "code",
   "execution_count": null,
   "metadata": {
    "colab": {
     "base_uri": "https://localhost:8080/",
     "height": 209,
     "referenced_widgets": [
      "353a6539c26c40d381a12ed5c8bfbf0f",
      "c3c7b58c9c3e40dd9a9aeacf2234171e",
      "35557dfe18a1446aac7de22a584bcd11",
      "254c4d8a4a7c432693843f775c0bc8d1",
      "fda736ad09424a82993803e9f1621fdc",
      "3703f8f74e0e49c3928ceb5e2a8f3f31",
      "17add0517263446caa6ac9e77cfe72f2",
      "ee427c796e1d4f18a9212cbd2a8ac138",
      "6ceaf74fa8a84f399092d7bc51344f66",
      "c559bb622686406088409af2d1d91d3c",
      "532066ac12a44ca7baa65e20fa43a715",
      "31fbe6623e234b8781b638018bd85bdf",
      "0ebfef0f53424e3cb9c7dfdecf37fd98",
      "1836a023787245189eaa891dcc070c1d",
      "ad165f26c5a74f32b2e28e461666064c",
      "55daf57351814ccfadb719a443c514d9",
      "b4ee7a2a46f8462ab64b776ab734ffcc",
      "afb1fc431e064d9b9b44c573579af409",
      "2392bb5e180a486dafbb20eeefd708b9",
      "2aa902bab29c40ba886da7e2383258a8",
      "5ef8a80a0a0045cf8baf905875113a56",
      "1f30d9b529714ecda2f4cc6fcd6195be",
      "8f4b99237622475a81cd3ec353e2baae",
      "d3e56c1c748b4fc1825fbb101528e03a",
      "f47ff4304bf64994a3ac0ad9cf2110ad",
      "06ec5b2560fb434cb15d5accfaa09db3",
      "9badf7a5acd3420ebddce463959b548f",
      "adb9e2742e2a4e62b63852dfb89be099",
      "a010d35d5c4b4f88a88fad2c6ac50e43",
      "0ab1b9d65c4140a3aa2fb8a8a3312af4",
      "148d802516ba40bc807cad317c0ecd1e",
      "27afc0b4f87149c89bc8f1317e03ffc4",
      "832576ee78634fdfa8a69cc88ea0ed25",
      "de772c206823441f9b8639a6e93c6349",
      "a1122c39713446588078654c5237021b",
      "3fc5bd95acff4b74b796821e5d0905a1",
      "29bd073df038442cb284fb0227481339",
      "9c5a3f594f7741808fd0cce3e0e800a7",
      "6ccaf1be4ed040e28f5e468f8eaa5561",
      "2b0934c1ba1046dc9eb7fde997340cc0",
      "df836fb76b524ba99eca91566bb1ecb1",
      "18b5308713aa401b8367710189ac75bd",
      "85012c9bfada4369932145a2d4eba599",
      "20e8e25c5420424583b9fee44980af8b",
      "47eed59b12724b73ae0a2ec651f27c30",
      "138397972dcd472886c8a0465dc0b96a",
      "7de0abcd243343a1b8a1b796c8ca6312",
      "f299e09ba0f3442c8fd4a011c0062337",
      "b60a984bfc65426b9c8ef86fb5f8acce",
      "8ca8af8baeb6440fb65f15b4ddea395a",
      "90d61121783c4c01a6db01a11524753d",
      "5a56155918d1445ba3b8a062da28e1c0",
      "75b3312589bd4348a1caf217d05ac9cf",
      "b5faebb2fdab42e9a0af48d8c7a1bb85",
      "f16be7d5f9924734964fe144fe7d156c",
      "ed9fb51ded8e4871890558c290b6f701",
      "61aa111921134956a1160a538d69de84",
      "530b690fbef94fe0b3a2ec6d7bd2528d",
      "d26760257a9d498b94584213c85cc5db",
      "ac804823f30345fc9ed00a211e65c6cd",
      "8838a75012d34a36a798128a1a0e0ec6",
      "1b08ad3347b949f981021bbefc6afe3f",
      "55cd4e5085a54bae89b512554853a9ee",
      "11494baf16484790ac3010a2d2e6236e",
      "a445a350f46b4b2baaa63d9f1f27d984",
      "a287ca25b7654fc19b4265dea0f1064e"
     ]
    },
    "id": "suyHFMiO92Rj",
    "outputId": "d7a02471-343b-4075-daa3-cd6d6f6d959e"
   },
   "outputs": [
    {
     "data": {
      "application/vnd.jupyter.widget-view+json": {
       "model_id": "353a6539c26c40d381a12ed5c8bfbf0f",
       "version_major": 2,
       "version_minor": 0
      },
      "text/plain": [
       "tokenizer_config.json:   0%|          | 0.00/48.0 [00:00<?, ?B/s]"
      ]
     },
     "metadata": {},
     "output_type": "display_data"
    },
    {
     "data": {
      "application/vnd.jupyter.widget-view+json": {
       "model_id": "31fbe6623e234b8781b638018bd85bdf",
       "version_major": 2,
       "version_minor": 0
      },
      "text/plain": [
       "vocab.txt:   0%|          | 0.00/232k [00:00<?, ?B/s]"
      ]
     },
     "metadata": {},
     "output_type": "display_data"
    },
    {
     "data": {
      "application/vnd.jupyter.widget-view+json": {
       "model_id": "8f4b99237622475a81cd3ec353e2baae",
       "version_major": 2,
       "version_minor": 0
      },
      "text/plain": [
       "tokenizer.json:   0%|          | 0.00/466k [00:00<?, ?B/s]"
      ]
     },
     "metadata": {},
     "output_type": "display_data"
    },
    {
     "data": {
      "application/vnd.jupyter.widget-view+json": {
       "model_id": "de772c206823441f9b8639a6e93c6349",
       "version_major": 2,
       "version_minor": 0
      },
      "text/plain": [
       "config.json:   0%|          | 0.00/570 [00:00<?, ?B/s]"
      ]
     },
     "metadata": {},
     "output_type": "display_data"
    },
    {
     "data": {
      "application/vnd.jupyter.widget-view+json": {
       "model_id": "47eed59b12724b73ae0a2ec651f27c30",
       "version_major": 2,
       "version_minor": 0
      },
      "text/plain": [
       "Map:   0%|          | 0/9543 [00:00<?, ? examples/s]"
      ]
     },
     "metadata": {},
     "output_type": "display_data"
    },
    {
     "data": {
      "application/vnd.jupyter.widget-view+json": {
       "model_id": "ed9fb51ded8e4871890558c290b6f701",
       "version_major": 2,
       "version_minor": 0
      },
      "text/plain": [
       "Map:   0%|          | 0/2388 [00:00<?, ? examples/s]"
      ]
     },
     "metadata": {},
     "output_type": "display_data"
    }
   ],
   "source": [
    "tokenizer = BertTokenizerFast.from_pretrained(\"bert-base-uncased\")\n",
    "\n",
    "# Tokenization\n",
    "def preprocess(example):\n",
    "    return tokenizer(example[\"text\"], truncation=True, padding=\"max_length\")\n",
    "\n",
    "encoded_ds = dataset.map(preprocess, batched=True)"
   ]
  },
  {
   "cell_type": "code",
   "execution_count": null,
   "metadata": {
    "id": "OkPbwLjZCnvM"
   },
   "outputs": [],
   "source": [
    "encoded_ds.set_format(type=\"torch\", columns=[\"input_ids\", \"token_type_ids\", \"attention_mask\", \"label\"])\n"
   ]
  },
  {
   "cell_type": "code",
   "execution_count": null,
   "metadata": {
    "colab": {
     "base_uri": "https://localhost:8080/",
     "height": 168,
     "referenced_widgets": [
      "7783195af9ae4bcab53c6ad9f335ae61",
      "e3d5c3feb60e4d7ebec016b0f182d762",
      "2e8048842d944372a904bc32735c93ce",
      "edb9650d8f3d456cbe69b31827ed89c5",
      "e812ff8f15b845b08e143ed94e286b42",
      "df19b28d28c24a1d9c0ab8b3f3928ec9",
      "a9f7be7cb2994ed8b0bf68b5e4a5bf76",
      "806afeaf749549b19910a98a883cf7fa",
      "d3c565c0a4394c2ca65bb6f3c141c2e2",
      "183c0093477444f6a023e624131ff5f9",
      "83e0c71b80e641a8b38a1aa0c3217758",
      "c9ff68d044e247d19f644deeccc24931",
      "2a59cee3e19e49cf9cd3b012b232e006",
      "0d9cfbdc982e4f82a26f5becf9380a89",
      "6ae82c05f08b4082912af1584997cf37",
      "e82238da710348f6bf4beb5f0b5bf98b",
      "739aa35b7d94460b8e2ce3f01b2d5b3d",
      "e7b54f9a609d4356abc46b848b7faa03",
      "090a42bcbe1649dea52171e8902981ba",
      "219152f4c79047e3af5412a400fe54ec",
      "6782ed7b5d9a499ba0ac6f6f78928d89",
      "dc28302a9571470aba414fa10cdc0984",
      "bdfb64e6086346cd99b50c0780193772",
      "993b041e09b946c8be0a511cf8a00587",
      "69c2c374e4a24b07b80c1f9293ac4d40",
      "33465810da0d4f3988fa365b429657d8",
      "b4e114288f49416788aab0314c3bc00e",
      "0e4fe696f9a74bb497cee2bf5a3dad16",
      "84c9ac66f14c4a248e900788a316dbf9",
      "2f6b849daf764680aea0938ab26fe2d4",
      "2cc5a62ffac94938ad19da57781e79fd",
      "ae12050ed0ee4c83a0abd78c9f7b01ee",
      "d16544a7dfcf4ccda21409222261d8a3"
     ]
    },
    "id": "p4yFQJfpCo3g",
    "outputId": "83659fce-ad6f-4c98-fdb2-bcf81961bbb2"
   },
   "outputs": [
    {
     "data": {
      "application/vnd.jupyter.widget-view+json": {
       "model_id": "7783195af9ae4bcab53c6ad9f335ae61",
       "version_major": 2,
       "version_minor": 0
      },
      "text/plain": [
       "model.safetensors:   0%|          | 0.00/440M [00:00<?, ?B/s]"
      ]
     },
     "metadata": {},
     "output_type": "display_data"
    },
    {
     "name": "stderr",
     "output_type": "stream",
     "text": [
      "Some weights of BertForSequenceClassification were not initialized from the model checkpoint at bert-base-uncased and are newly initialized: ['classifier.bias', 'classifier.weight']\n",
      "You should probably TRAIN this model on a down-stream task to be able to use it for predictions and inference.\n"
     ]
    },
    {
     "data": {
      "application/vnd.jupyter.widget-view+json": {
       "model_id": "c9ff68d044e247d19f644deeccc24931",
       "version_major": 2,
       "version_minor": 0
      },
      "text/plain": [
       "Downloading builder script: 0.00B [00:00, ?B/s]"
      ]
     },
     "metadata": {},
     "output_type": "display_data"
    },
    {
     "data": {
      "application/vnd.jupyter.widget-view+json": {
       "model_id": "bdfb64e6086346cd99b50c0780193772",
       "version_major": 2,
       "version_minor": 0
      },
      "text/plain": [
       "Downloading builder script: 0.00B [00:00, ?B/s]"
      ]
     },
     "metadata": {},
     "output_type": "display_data"
    }
   ],
   "source": [
    "model = BertForSequenceClassification.from_pretrained(\n",
    "    \"bert-base-uncased\",\n",
    "    num_labels=3,\n",
    "    id2label=id2label,\n",
    "    label2id=label2id\n",
    ")\n",
    "\n",
    "# Metrics\n",
    "accuracy = evaluate.load(\"accuracy\")\n",
    "f1 = evaluate.load(\"f1\")"
   ]
  },
  {
   "cell_type": "code",
   "execution_count": null,
   "metadata": {
    "id": "ZelyNNeODjXy"
   },
   "outputs": [],
   "source": [
    "def compute_metrics(eval_pred):\n",
    "    logits, labels = eval_pred\n",
    "    preds = np.argmax(logits, axis=-1)\n",
    "    return {\n",
    "        \"accuracy\": accuracy.compute(predictions=preds, references=labels)[\"accuracy\"],\n",
    "        \"f1_macro\": f1.compute(predictions=preds, references=labels, average=\"macro\")[\"f1\"]\n",
    "    }"
   ]
  },
  {
   "cell_type": "code",
   "execution_count": null,
   "metadata": {
    "colab": {
     "base_uri": "https://localhost:8080/"
    },
    "id": "nv4VIJkCDsEp",
    "outputId": "fff4c2c4-79ea-4c44-9fc7-ceb43e8c88b2"
   },
   "outputs": [
    {
     "name": "stderr",
     "output_type": "stream",
     "text": [
      "/tmp/ipython-input-10-3380617199.py:19: FutureWarning: `tokenizer` is deprecated and will be removed in version 5.0.0 for `Trainer.__init__`. Use `processing_class` instead.\n",
      "  trainer = Trainer(\n"
     ]
    }
   ],
   "source": [
    "training_args = TrainingArguments(\n",
    "    output_dir=\"./bert-finance-sentiment\",\n",
    "    eval_strategy=\"epoch\",\n",
    "    save_strategy=\"epoch\",\n",
    "    per_device_train_batch_size=16,\n",
    "    per_device_eval_batch_size=16,\n",
    "    num_train_epochs=3,\n",
    "    weight_decay=0.01,\n",
    "    logging_dir=\"./logs\",\n",
    "    logging_steps=50,\n",
    "    load_best_model_at_end=True,\n",
    "    metric_for_best_model=\"accuracy\"\n",
    ")\n",
    "\n",
    "data_collator = DataCollatorWithPadding(tokenizer=tokenizer)\n",
    "\n",
    "trainer = Trainer(\n",
    "    model=model,\n",
    "    args=training_args,\n",
    "    train_dataset=encoded_ds[\"train\"],\n",
    "    eval_dataset=encoded_ds[\"validation\"],\n",
    "    tokenizer=tokenizer,\n",
    "    data_collator=data_collator,\n",
    "    compute_metrics=compute_metrics\n",
    ")"
   ]
  },
  {
   "cell_type": "code",
   "execution_count": null,
   "metadata": {
    "colab": {
     "base_uri": "https://localhost:8080/",
     "height": 227
    },
    "id": "A1qx9rueD45j",
    "outputId": "e739a214-08f7-4275-c33a-8f233192e15e"
   },
   "outputs": [
    {
     "data": {
      "text/html": [
       "\n",
       "    <div>\n",
       "      \n",
       "      <progress value='1791' max='1791' style='width:300px; height:20px; vertical-align: middle;'></progress>\n",
       "      [1791/1791 46:42, Epoch 3/3]\n",
       "    </div>\n",
       "    <table border=\"1\" class=\"dataframe\">\n",
       "  <thead>\n",
       " <tr style=\"text-align: left;\">\n",
       "      <th>Epoch</th>\n",
       "      <th>Training Loss</th>\n",
       "      <th>Validation Loss</th>\n",
       "      <th>Accuracy</th>\n",
       "      <th>F1 Macro</th>\n",
       "    </tr>\n",
       "  </thead>\n",
       "  <tbody>\n",
       "    <tr>\n",
       "      <td>1</td>\n",
       "      <td>0.400700</td>\n",
       "      <td>0.337274</td>\n",
       "      <td>0.870603</td>\n",
       "      <td>0.831690</td>\n",
       "    </tr>\n",
       "    <tr>\n",
       "      <td>2</td>\n",
       "      <td>0.217600</td>\n",
       "      <td>0.405050</td>\n",
       "      <td>0.881491</td>\n",
       "      <td>0.841353</td>\n",
       "    </tr>\n",
       "    <tr>\n",
       "      <td>3</td>\n",
       "      <td>0.075300</td>\n",
       "      <td>0.525775</td>\n",
       "      <td>0.888191</td>\n",
       "      <td>0.855016</td>\n",
       "    </tr>\n",
       "  </tbody>\n",
       "</table><p>"
      ],
      "text/plain": [
       "<IPython.core.display.HTML object>"
      ]
     },
     "metadata": {},
     "output_type": "display_data"
    },
    {
     "data": {
      "text/html": [
       "\n",
       "    <div>\n",
       "      \n",
       "      <progress value='150' max='150' style='width:300px; height:20px; vertical-align: middle;'></progress>\n",
       "      [150/150 01:09]\n",
       "    </div>\n",
       "    "
      ],
      "text/plain": [
       "<IPython.core.display.HTML object>"
      ]
     },
     "metadata": {},
     "output_type": "display_data"
    },
    {
     "name": "stdout",
     "output_type": "stream",
     "text": [
      "Final Evaluation: {'eval_loss': 0.5257754921913147, 'eval_accuracy': 0.8881909547738693, 'eval_f1_macro': 0.8550159545011877, 'eval_runtime': 69.7766, 'eval_samples_per_second': 34.223, 'eval_steps_per_second': 2.15, 'epoch': 3.0}\n"
     ]
    }
   ],
   "source": [
    "trainer.train()\n",
    "results = trainer.evaluate()\n",
    "print(\"Final Evaluation:\", results)"
   ]
  },
  {
   "cell_type": "code",
   "execution_count": null,
   "metadata": {
    "colab": {
     "base_uri": "https://localhost:8080/"
    },
    "id": "eDBmFL3EYkd7",
    "outputId": "666d6c5d-1cd2-499b-f368-86a3ddb60513"
   },
   "outputs": [
    {
     "name": "stdout",
     "output_type": "stream",
     "text": [
      "Text: Stock prices are expected to rise after the earnings report.\n",
      "Predicted Sentiment: Bullish\n",
      "\n",
      "Text: The market crashed hard today.\n",
      "Predicted Sentiment: Bearish\n",
      "\n",
      "Text: Nothing major happened in the financial sector this week.\n",
      "Predicted Sentiment: Neutral\n",
      "\n"
     ]
    }
   ],
   "source": [
    "import torch\n",
    "\n",
    "model.eval()\n",
    "def predict_sentiment(texts):\n",
    "    device = torch.device(\"cuda\" if torch.cuda.is_available() else \"cpu\")\n",
    "    model.to(device)\n",
    "\n",
    "    inputs = tokenizer(texts, return_tensors=\"pt\", padding=True, truncation=True).to(device)\n",
    "\n",
    "    with torch.no_grad():\n",
    "        outputs = model(**inputs)\n",
    "        logits = outputs.logits\n",
    "        preds = torch.argmax(logits, dim=1)\n",
    "\n",
    "    return [id2label[p.item()] for p in preds]\n",
    "\n",
    "\n",
    "example_texts = [\n",
    "    \"Stock prices are expected to rise after the earnings report.\",\n",
    "    \"The market crashed hard today.\",\n",
    "    \"Nothing major happened in the financial sector this week.\"\n",
    "]\n",
    "\n",
    "predictions = predict_sentiment(example_texts)\n",
    "\n",
    "for text, label in zip(example_texts, predictions):\n",
    "    print(f\"Text: {text}\\nPredicted Sentiment: {label}\\n\")"
   ]
  }
 ],
 "metadata": {
  "accelerator": "GPU",
  "colab": {
   "gpuType": "T4",
   "provenance": []
  },
  "kernelspec": {
   "display_name": "Python 3",
   "name": "python3"
  },
  "language_info": {
   "name": "python"
  }
 },
 "nbformat": 4,
 "nbformat_minor": 0
}
